<h1 align=center>Analyzing Historical Stock/Revenue Data & <br>Building a Dashboard</h1>
<h3>Sandeep Kumar</h3>
February 19, 2025

!pip install yfinance
!pip install pandas
!pip install nbformat
!mamba install bs4

import yfinance as yf
import pandas as pd
import requests
from bs4 import BeautifulSoup
import plotly.graph_objects as go
from plotly.subplots import make_subplots


def make_graph(stock_data, revenue_data, stock):
    fig = make_subplots(rows=2, cols=1, shared_xaxes=True, subplot_titles=("Historical Share Price", "Historical Revenue"), vertical_spacing = .3)
    stock_data_specific = stock_data[stock_data.Date <= '2021-06-14']
    revenue_data_specific = revenue_data[revenue_data.Date <= '2021-04-30']
    fig.add_trace(go.Scatter(x=pd.to_datetime(stock_data_specific.Date), y=stock_data_specific.Close.astype("float"), name="Share Price"), row=1, col=1)
    fig.add_trace(go.Scatter(x=pd.to_datetime(revenue_data_specific.Date), y=revenue_data_specific.Revenue.astype("float"), name="Revenue"), row=2, col=1)
    fig.update_xaxes(title_text="Date", row=1, col=1)
    fig.update_xaxes(title_text="Date", row=2, col=1)
    fig.update_yaxes(title_text="Price ($US)", row=1, col=1)
    fig.update_yaxes(title_text="Revenue ($US Millions)", row=2, col=1)
    fig.update_layout(showlegend=False,
    height=900,
    title=stock,
    xaxis_rangeslider_visible=True)
    fig.show()


## Question 1 - Extracting Tesla Stock Data Using yfinance

Tesla = yf.Ticker('TSLA')

tesla_data = Tesla.history(period = "max")
tesla_data.reset_index(inplace = True)
tesla_data.head()


## Question 2 - Extracting Tesla Revenue Data Using Webscraping

urlTesla = "https://cf-courses-data.s3.us.cloud-object-storage.appdomain.cloud/IBMDeveloperSkillsNetwork-PY0220EN-SkillsNetwork/labs/project/revenue.htm"
html_data = requests.get(urlTesla).text

soup = BeautifulSoup(html_data,'html5lib')
tesla_revenue=pd.read_html(urlTesla, match="Tesla Quarterly Revenue", flavor='bs4')[0]
tesla_revenue = tesla_revenue.rename(columns={"Tesla Quarterly Revenue (Millions of US $)":"Year-Qr","Tesla Quarterly Revenue (Millions of US $).1":"Revenue ($M)"}) #Rename df columns 

tesla_revenue.tail()


## Question 3 - Extracting GameStop Stock Data Using yfinance

gme = yf.Ticker("GME")

gme_data = gme.history(period = "max")
gme_data.reset_index(inplace = True)
gme_data.head()


## Question 4 - Extracting GameStop Revenue Data Using Webscraping

urlGME = "https://cf-courses-data.s3.us.cloud-object-storage.appdomain.cloud/IBMDeveloperSkillsNetwork-PY0220EN-SkillsNetwork/labs/project/stock.html"
html_data = requests.get(urlGME).text

soup = BeautifulSoup(html_data,'html5lib')
gme_revenue=pd.read_html(urlGME, match="GameStop Quarterly Revenue", flavor='bs4')[0]
gme_revenue = gme_revenue.rename(columns={"GameStop Quarterly Revenue (Millions of US $)":"Year-Qr","GameStop Quarterly Revenue (Millions of US $).1":"Revenue ($M)"}) #Rename df columns 

gme_revenue.tail()


## Question 5 - Tesla Stock and Revenue Dashboard

make_graph(tesla_data, tesla_revenue, 'Tesla')


## Question 6 - GameStop Stock and Revenue Dashboard

make_graph(gme_data, gme_revenue, 'GameStop')


## Question 7 - Sharing your Assignment Notebook

You are right there!!
