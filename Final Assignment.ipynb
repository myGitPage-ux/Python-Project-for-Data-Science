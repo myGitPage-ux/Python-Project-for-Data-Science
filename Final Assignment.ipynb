#!pip install yfinance==0.2.38
#!pip install pandas==2.2.2
#!pip install nbformat
